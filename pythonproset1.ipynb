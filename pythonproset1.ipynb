{
 "cells": [
  {
   "cell_type": "markdown",
   "id": "2be5d567",
   "metadata": {},
   "source": [
    "# Question 6 Python"
   ]
  },
  {
   "cell_type": "markdown",
   "id": "a2621325",
   "metadata": {},
   "source": [
    "You can turn a word into pig-Latin using the following two rules (simplified):<br/>\n",
    "• If the word starts with a consonant, move that letter to the end and append 'ay'. For example, 'happy' becomes 'appyhay' and 'pencil' becomes 'encilpay'.<br/>\n",
    "• If the word starts with a vowel, simply append 'way' to the end of the word. For example, 'enter' becomes 'enterway' and 'other' becomes 'otherway' . For our purposes, there are 5 vowels: a, e, i, o, u (so we count y as a consonant).<br/>\n",
    "Write a function pig() that takes a word (i.e., a string) as input and returns its pig-Latin form. Your function should still work if the input word contains upper case characters. Your output should always be lower case however."
   ]
  },
  {
   "cell_type": "code",
   "execution_count": 10,
   "id": "ad470972",
   "metadata": {},
   "outputs": [],
   "source": [
    "def pig(word):\n",
    "    l = (word.lower())\n",
    "    fl = l[0]\n",
    "    row = l[1 : ]\n",
    "    if fl in('a','e','i','o','u'):\n",
    "        print (fl + row + \"way\")\n",
    "    else:\n",
    "         print (row + fl + \"ay\")"
   ]
  },
  {
   "cell_type": "code",
   "execution_count": 11,
   "id": "8b82394d",
   "metadata": {},
   "outputs": [
    {
     "name": "stdout",
     "output_type": "stream",
     "text": [
      "appyhay\n"
     ]
    }
   ],
   "source": [
    "pig('happy')"
   ]
  },
  {
   "cell_type": "code",
   "execution_count": 12,
   "id": "dd8eaa8a",
   "metadata": {},
   "outputs": [
    {
     "name": "stdout",
     "output_type": "stream",
     "text": [
      "enterway\n"
     ]
    }
   ],
   "source": [
    "pig('Enter')"
   ]
  },
  {
   "cell_type": "markdown",
   "id": "864f25b2",
   "metadata": {},
   "source": [
    "# Question 7 Python"
   ]
  },
  {
   "cell_type": "markdown",
   "id": "19af25b8",
   "metadata": {},
   "source": [
    "File bloodtype1.txt records blood-types of patients (A, B, AB, O or OO) at a clinic. Write a function bldcount() that reads the file with name name and reports (i.e., prints) how many patients there are in each bloodtype."
   ]
  },
  {
   "cell_type": "code",
   "execution_count": 28,
   "id": "6079fd38",
   "metadata": {},
   "outputs": [],
   "source": [
    "def bldcount(nm):\n",
    "    infle = open('C:\\\\Users\\\\ASUS\\\\Downloads\\\\bloodtype1.txt',\"r\")\n",
    "    p = infle.read()\n",
    "    p=p.split()\n",
    "    blood_typ = ['A','B','AB','O','OO']\n",
    "    for a in blood_typ:\n",
    "        if p.count(a)==0:\n",
    "            print('there are no patients of blood type',a+'.')\n",
    "        elif p.count(a)==1:\n",
    "            print('There is ',p.count(a),'patient with blood type',a+'.')\n",
    "        else:print('there are',p.count(a),'patient with bloodtype',a+'.')"
   ]
  },
  {
   "cell_type": "code",
   "execution_count": 29,
   "id": "33802868",
   "metadata": {},
   "outputs": [
    {
     "name": "stdout",
     "output_type": "stream",
     "text": [
      "there are 15 patient with bloodtype A.\n",
      "There is  1 patient with blood type B.\n",
      "there are 13 patient with bloodtype AB.\n",
      "there are 15 patient with bloodtype O.\n",
      "there are no patients of blood type OO.\n"
     ]
    }
   ],
   "source": [
    "bldcount('bloodtype1.txt')"
   ]
  },
  {
   "cell_type": "markdown",
   "id": "f6c1fa90",
   "metadata": {},
   "source": [
    "# Question 8 Python"
   ]
  },
  {
   "cell_type": "markdown",
   "id": "7b3d6800",
   "metadata": {},
   "source": [
    "Write a function curconv() that takes as input:\n",
    "1. a currency represented using a string (e.g., 'JPY' for the Japanese Yen or 'EUR' for the Euro)\n",
    "2. an amount\n",
    "and then converts and returns the amount in US dollars."
   ]
  },
  {
   "cell_type": "code",
   "execution_count": 31,
   "id": "d96821e3",
   "metadata": {
    "scrolled": true
   },
   "outputs": [],
   "source": [
    "def curconv(ex,amt):\n",
    "  \n",
    "    infle = open('C:\\\\Users\\\\ASUS\\\\Downloads\\\\currencies.txt')\n",
    "    tp = infle.readlines()\n",
    "    \n",
    "    for ln in tp:\n",
    "        p = ln.split()\n",
    "        if ex == p[0]:\n",
    "            t = amt * float(p[1])\n",
    "            \n",
    "            print(t)\n",
    "            infle.close()"
   ]
  },
  {
   "cell_type": "code",
   "execution_count": 32,
   "id": "4770404e",
   "metadata": {},
   "outputs": [
    {
     "name": "stdout",
     "output_type": "stream",
     "text": [
      "122.96544\n"
     ]
    }
   ],
   "source": [
    "curconv('EUR', 100) \n"
   ]
  },
  {
   "cell_type": "code",
   "execution_count": 33,
   "id": "0d8a5f83",
   "metadata": {},
   "outputs": [
    {
     "name": "stdout",
     "output_type": "stream",
     "text": [
      "1.241401\n"
     ]
    }
   ],
   "source": [
    "curconv('JPY', 100)"
   ]
  },
  {
   "cell_type": "markdown",
   "id": "e712833b",
   "metadata": {},
   "source": [
    "# Question 9 Python"
   ]
  },
  {
   "cell_type": "markdown",
   "id": "15612258",
   "metadata": {},
   "source": [
    "Each of the following will cause an exception (an error). Identify what type of exception each will cause.<br/>\n",
    "Trying to add incompatible variables, as in adding 6 + ‘a’<br/>\n",
    "Referring to the 12th item of a list that has only 10 items<br/>\n",
    "Using a value that is out of range for a function’s input, such as calling math.sqrt( 1.0)<br/>\n",
    "Using an undeclared variable, such as print(x)\n",
    "when x has not been defined<br/>\n",
    "Trying to open a file that does not exist, such as mistyping the file name or looking in the wrong directory."
   ]
  },
  {
   "cell_type": "code",
   "execution_count": 35,
   "id": "65cf3903",
   "metadata": {},
   "outputs": [
    {
     "ename": "TypeError",
     "evalue": "unsupported operand type(s) for +: 'int' and 'str'",
     "output_type": "error",
     "traceback": [
      "\u001b[1;31m---------------------------------------------------------------------------\u001b[0m",
      "\u001b[1;31mTypeError\u001b[0m                                 Traceback (most recent call last)",
      "\u001b[1;32m<ipython-input-35-7476d543c94c>\u001b[0m in \u001b[0;36m<module>\u001b[1;34m\u001b[0m\n\u001b[1;32m----> 1\u001b[1;33m \u001b[0mprint\u001b[0m\u001b[1;33m(\u001b[0m\u001b[1;36m6\u001b[0m\u001b[1;33m+\u001b[0m\u001b[1;34m'a'\u001b[0m\u001b[1;33m)\u001b[0m\u001b[1;33m\u001b[0m\u001b[1;33m\u001b[0m\u001b[0m\n\u001b[0m\u001b[0;32m      2\u001b[0m \u001b[1;31m#type_error\u001b[0m\u001b[1;33m\u001b[0m\u001b[1;33m\u001b[0m\u001b[1;33m\u001b[0m\u001b[0m\n",
      "\u001b[1;31mTypeError\u001b[0m: unsupported operand type(s) for +: 'int' and 'str'"
     ]
    }
   ],
   "source": [
    "#1.type_error\n",
    "print(6+'a')"
   ]
  },
  {
   "cell_type": "code",
   "execution_count": 37,
   "id": "a92ff406",
   "metadata": {},
   "outputs": [
    {
     "ename": "IndexError",
     "evalue": "list index out of range",
     "output_type": "error",
     "traceback": [
      "\u001b[1;31m---------------------------------------------------------------------------\u001b[0m",
      "\u001b[1;31mIndexError\u001b[0m                                Traceback (most recent call last)",
      "\u001b[1;32m<ipython-input-37-d3fb756a766e>\u001b[0m in \u001b[0;36m<module>\u001b[1;34m\u001b[0m\n\u001b[0;32m      1\u001b[0m \u001b[0mp_ls\u001b[0m \u001b[1;33m=\u001b[0m \u001b[1;33m[\u001b[0m\u001b[1;36m1\u001b[0m\u001b[1;33m,\u001b[0m \u001b[1;36m2\u001b[0m\u001b[1;33m,\u001b[0m \u001b[1;36m3\u001b[0m\u001b[1;33m,\u001b[0m \u001b[1;36m4\u001b[0m\u001b[1;33m,\u001b[0m \u001b[1;36m5\u001b[0m\u001b[1;33m,\u001b[0m \u001b[1;36m6\u001b[0m\u001b[1;33m,\u001b[0m \u001b[1;36m7\u001b[0m\u001b[1;33m,\u001b[0m \u001b[1;36m8\u001b[0m\u001b[1;33m,\u001b[0m \u001b[1;36m9\u001b[0m\u001b[1;33m,\u001b[0m \u001b[1;36m10\u001b[0m\u001b[1;33m]\u001b[0m\u001b[1;33m\u001b[0m\u001b[1;33m\u001b[0m\u001b[0m\n\u001b[1;32m----> 2\u001b[1;33m \u001b[0mp_ls\u001b[0m\u001b[1;33m[\u001b[0m\u001b[1;36m12\u001b[0m\u001b[1;33m]\u001b[0m\u001b[1;33m\u001b[0m\u001b[1;33m\u001b[0m\u001b[0m\n\u001b[0m",
      "\u001b[1;31mIndexError\u001b[0m: list index out of range"
     ]
    }
   ],
   "source": [
    "#2.Index_error\n",
    "p_ls = [1, 2, 3, 4, 5, 6, 7, 8, 9, 10]\n",
    "p_ls[12]"
   ]
  },
  {
   "cell_type": "code",
   "execution_count": 13,
   "id": "3afa6919",
   "metadata": {},
   "outputs": [
    {
     "data": {
      "text/plain": [
       "ValueError"
      ]
     },
     "execution_count": 13,
     "metadata": {},
     "output_type": "execute_result"
    }
   ],
   "source": [
    "#3.math.sqrt(1.0)\n",
    "ValueError"
   ]
  },
  {
   "cell_type": "code",
   "execution_count": 14,
   "id": "ddd5c1d6",
   "metadata": {},
   "outputs": [
    {
     "ename": "NameError",
     "evalue": "name 'ab' is not defined",
     "output_type": "error",
     "traceback": [
      "\u001b[1;31m---------------------------------------------------------------------------\u001b[0m",
      "\u001b[1;31mNameError\u001b[0m                                 Traceback (most recent call last)",
      "\u001b[1;32m<ipython-input-14-bc30cb4adf72>\u001b[0m in \u001b[0;36m<module>\u001b[1;34m\u001b[0m\n\u001b[1;32m----> 1\u001b[1;33m \u001b[0mprint\u001b[0m\u001b[1;33m(\u001b[0m\u001b[0mab\u001b[0m\u001b[1;33m)\u001b[0m\u001b[1;33m\u001b[0m\u001b[1;33m\u001b[0m\u001b[0m\n\u001b[0m",
      "\u001b[1;31mNameError\u001b[0m: name 'ab' is not defined"
     ]
    }
   ],
   "source": [
    "print(ab)\n",
    "#name_error"
   ]
  },
  {
   "cell_type": "code",
   "execution_count": 15,
   "id": "3fa1ff82",
   "metadata": {},
   "outputs": [
    {
     "ename": "FileNotFoundError",
     "evalue": "[Errno 2] No such file or directory: 'C:\\\\Users\\\\ASUS\\\\Downloads\\\\dhruval.txt'",
     "output_type": "error",
     "traceback": [
      "\u001b[1;31m---------------------------------------------------------------------------\u001b[0m",
      "\u001b[1;31mFileNotFoundError\u001b[0m                         Traceback (most recent call last)",
      "\u001b[1;32m<ipython-input-15-2cb43ef2d8b2>\u001b[0m in \u001b[0;36m<module>\u001b[1;34m\u001b[0m\n\u001b[1;32m----> 1\u001b[1;33m \u001b[0mfile\u001b[0m \u001b[1;33m=\u001b[0m \u001b[0mopen\u001b[0m\u001b[1;33m(\u001b[0m\u001b[1;34m'C:\\\\Users\\\\ASUS\\\\Downloads\\\\dhruval.txt'\u001b[0m\u001b[1;33m)\u001b[0m\u001b[1;33m\u001b[0m\u001b[1;33m\u001b[0m\u001b[0m\n\u001b[0m",
      "\u001b[1;31mFileNotFoundError\u001b[0m: [Errno 2] No such file or directory: 'C:\\\\Users\\\\ASUS\\\\Downloads\\\\dhruval.txt'"
     ]
    }
   ],
   "source": [
    "file = open('C:\\\\Users\\\\ASUS\\\\Downloads\\\\dhruval.txt')\n",
    "#filenotfounderror"
   ]
  },
  {
   "cell_type": "markdown",
   "id": "e1991c2c",
   "metadata": {},
   "source": [
    "# Question 10 Python"
   ]
  },
  {
   "cell_type": "markdown",
   "id": "71804287",
   "metadata": {},
   "source": [
    "Encryption is the process of hiding the meaning of a text by substituting letters in the message with other letters, according to some system. If the process is successful, no one but the intended recipient can understand the encrypted message. Cryptanalysis refers to attempts to undo the encryption, even if some details of the encryption are unknown (for example, if an encrypted message has been intercepted). The first step of cryptanalysis is often to build up a table of letter frequencies in the encrypted text. Assume that the string letters is already defined as 'abcdefghijklmnopqrstuvwxyz'. Write a function called frequencies() that takes a string as its only parameter, and returns a list of integers, showing the number of times each character appears in the text. Your function may ignore any characters that are not in letters."
   ]
  },
  {
   "cell_type": "code",
   "execution_count": 22,
   "id": "cf50fd5e",
   "metadata": {},
   "outputs": [
    {
     "name": "stdout",
     "output_type": "stream",
     "text": [
      "Text : The quick red fox got bored and went home\n",
      "1\n",
      "1\n",
      "1\n",
      "3\n",
      "5\n",
      "1\n",
      "1\n",
      "2\n",
      "1\n",
      "0\n",
      "1\n",
      "0\n",
      "1\n",
      "2\n",
      "4\n",
      "0\n",
      "1\n",
      "2\n",
      "0\n",
      "2\n",
      "1\n",
      "0\n",
      "1\n",
      "1\n",
      "0\n",
      "0\n"
     ]
    }
   ],
   "source": [
    "s1 = input(\"Text : \")\n",
    "\n",
    "frequencies=['a','b','c','d','e','f','g','h','i','j','k','l','m','n','o','p','q','r','s','t','u','v','w','x','y','z']\n",
    "\n",
    "for d in range(0,26):\n",
    "    print (s1.count(frequencies[d]))"
   ]
  },
  {
   "cell_type": "code",
   "execution_count": 23,
   "id": "10c3a091",
   "metadata": {},
   "outputs": [
    {
     "name": "stdout",
     "output_type": "stream",
     "text": [
      "Text : apple\n",
      "1\n",
      "0\n",
      "0\n",
      "0\n",
      "1\n",
      "0\n",
      "0\n",
      "0\n",
      "0\n",
      "0\n",
      "0\n",
      "1\n",
      "0\n",
      "0\n",
      "0\n",
      "2\n",
      "0\n",
      "0\n",
      "0\n",
      "0\n",
      "0\n",
      "0\n",
      "0\n",
      "0\n",
      "0\n",
      "0\n"
     ]
    }
   ],
   "source": [
    "s1 = input(\"Text : \")\n",
    "\n",
    "frequencies=['a','b','c','d','e','f','g','h','i','j','k','l','m','n','o','p','q','r','s','t','u','v','w','x','y','z']\n",
    "\n",
    "for d in range(0,26):\n",
    "    print (s1.count(frequencies[d]))"
   ]
  },
  {
   "cell_type": "code",
   "execution_count": null,
   "id": "00c05808",
   "metadata": {},
   "outputs": [],
   "source": []
  }
 ],
 "metadata": {
  "kernelspec": {
   "display_name": "Python 3",
   "language": "python",
   "name": "python3"
  },
  "language_info": {
   "codemirror_mode": {
    "name": "ipython",
    "version": 3
   },
   "file_extension": ".py",
   "mimetype": "text/x-python",
   "name": "python",
   "nbconvert_exporter": "python",
   "pygments_lexer": "ipython3",
   "version": "3.8.8"
  }
 },
 "nbformat": 4,
 "nbformat_minor": 5
}
